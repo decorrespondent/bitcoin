{
 "cells": [
  {
   "cell_type": "code",
   "execution_count": 162,
   "metadata": {},
   "outputs": [],
   "source": [
    "import requests\n",
    "import pandas as pd\n",
    "import config\n",
    "import pprint\n",
    "import numpy\n",
    "import re\n",
    "import matplotlib.pyplot as plt"
   ]
  },
  {
   "cell_type": "markdown",
   "metadata": {},
   "source": [
    "## 1. Cryptocompare\n",
    "\n",
    "Scrape cryptocompare for data on coins."
   ]
  },
  {
   "cell_type": "code",
   "execution_count": 2,
   "metadata": {},
   "outputs": [],
   "source": [
    "cc_api_key = config.CRYPTO_COMPARE_API\n",
    "cmc_api_key = config.COINMARKETCAP_API\n",
    "path_data_viz = config.PATH_DATA_VIZ\n",
    "path_data_temp = config.PAHT_DATA_TEMP"
   ]
  },
  {
   "cell_type": "code",
   "execution_count": null,
   "metadata": {},
   "outputs": [],
   "source": [
    "# Call API coin endpoint\n",
    "\n",
    "coin_endpoint = 'https://min-api.cryptocompare.com/data/all/coinlist?extraParams=CorrieCoin&api_key='\n",
    "\n",
    "r = coin_endpoint + cc_api_key\n",
    "\n",
    "coin_search = requests.get(r).json()"
   ]
  },
  {
   "cell_type": "code",
   "execution_count": null,
   "metadata": {},
   "outputs": [],
   "source": [
    "# Create empty dataframe\n",
    "\n",
    "coins = pd.DataFrame(columns=['algorithm',\n",
    "                              'built_on',\n",
    "                              'coin_name',\n",
    "                              'content_created_on',\n",
    "                              'full_name',\n",
    "                              'fully_premined',\n",
    "                              'id',\n",
    "                              'is_trading',\n",
    "                              'name',\n",
    "                              'pre_mined_value',\n",
    "                              'proof_type',\n",
    "                              'smart_contract_address',\n",
    "                              'symbol',\n",
    "                              'total_coin_supply',\n",
    "                              'total_coins_free_float',\n",
    "                              'total_coins_mined'                                                 \n",
    "                             ])"
   ]
  },
  {
   "cell_type": "code",
   "execution_count": null,
   "metadata": {},
   "outputs": [],
   "source": [
    "# Append JSON response to dataframe\n",
    "\n",
    "for data, coin in coin_search['Data'].items():\n",
    "    algorithm = coin['Algorithm']\n",
    "    built_on = coin['BuiltOn']\n",
    "    coin_name = coin['CoinName']\n",
    "    content_created_on = coin['ContentCreatedOn']\n",
    "    full_name = coin['FullName']\n",
    "    fully_premined = coin['FullyPremined']\n",
    "    id_nr = coin['Id']\n",
    "    is_trading = coin['IsTrading']\n",
    "    name = coin['Name']\n",
    "    pre_mined_value = coin['PreMinedValue']\n",
    "    proof_type = coin['ProofType']\n",
    "    smart_contract_address = coin['SmartContractAddress']\n",
    "    symbol = coin['Symbol']\n",
    "    total_coin_supply = coin['TotalCoinSupply']\n",
    "    total_coins_free_float = coin['TotalCoinsFreeFloat']\n",
    "    total_coins_mined = coin.get('TotalCoinsMined', 'not available')\n",
    "    \n",
    "    coins = coins.append({'algorithm' : algorithm,\n",
    "                          'built_on' : built_on,\n",
    "                          'coin_name' : coin_name,\n",
    "                          'content_created_on' : content_created_on,\n",
    "                          'full_name' : full_name,\n",
    "                          'fully_premined' : fully_premined,\n",
    "                          'id' : id_nr,\n",
    "                          'is_trading' : is_trading,\n",
    "                          'name' : name,\n",
    "                          'pre_mined_value' : pre_mined_value,\n",
    "                          'proof_type' : proof_type,\n",
    "                          'smart_contract_address' : smart_contract_address,\n",
    "                          'symbol' : symbol,\n",
    "                          'total_coin_supply': total_coin_supply,\n",
    "                          'total_coins_free_float' : total_coins_free_float,\n",
    "                          'total_coins_mined': total_coins_mined}, ignore_index=True)"
   ]
  },
  {
   "cell_type": "code",
   "execution_count": null,
   "metadata": {},
   "outputs": [],
   "source": [
    "# Check\n",
    "\n",
    "len(coins)"
   ]
  },
  {
   "cell_type": "code",
   "execution_count": null,
   "metadata": {},
   "outputs": [],
   "source": [
    "# Write to file\n",
    "\n",
    "coins.to_csv('/home/dim/Documents/projecten/bitcoin/data/crypto_statistics/cryptocompare_coins_oct_2019.csv')"
   ]
  },
  {
   "cell_type": "markdown",
   "metadata": {},
   "source": [
    "## 2. CoinMarketCap\n",
    "\n",
    "Let's get some data from CoinMarketCap. First get basic data on all the coins through the listing endpoint."
   ]
  },
  {
   "cell_type": "code",
   "execution_count": null,
   "metadata": {},
   "outputs": [],
   "source": [
    "url = 'https://pro-api.coinmarketcap.com/v1/cryptocurrency/listings/latest'\n",
    "\n",
    "headers = {\n",
    "    'Accepts': 'application/json',\n",
    "    'X-CMC_PRO_API_KEY': cmc_api_key\n",
    "}\n",
    "parameters = {\n",
    "  'start':'1',\n",
    "  'limit':'5000'\n",
    "}\n",
    "listing = requests.get(url, params=parameters, headers=headers).json()\n"
   ]
  },
  {
   "cell_type": "code",
   "execution_count": null,
   "metadata": {},
   "outputs": [],
   "source": [
    "basic_cmc_data = pd.DataFrame(columns=['id',\n",
    "                                   'name',\n",
    "                                   'symbol',\n",
    "                                   'slug',\n",
    "                                   'num_market_pairs',\n",
    "                                   'date_added',\n",
    "                                   'tags',\n",
    "                                   'max_supply',\n",
    "                                   'circulating_supply',\n",
    "                                   'total_supply'\n",
    "    \n",
    "                                    ])\n",
    "\n",
    "for value in listing['data']:\n",
    "    id_nr = value['id']\n",
    "    name = value['name']\n",
    "    symbol = value['symbol']\n",
    "    slug = value['slug']\n",
    "    num_market_pairs = value['num_market_pairs']\n",
    "    date_added = value['date_added']\n",
    "    tags = value['tags']\n",
    "    max_supply = value['max_supply']\n",
    "    circulating_supply = value['circulating_supply']\n",
    "    total_supply = value['total_supply']\n",
    "    \n",
    "    basic_cmc_data = basic_cmc_data.append({'id' : id_nr,\n",
    "                                           'name' : name,\n",
    "                                           'symbol' : symbol,\n",
    "                                           'slug' : slug,\n",
    "                                           'num_market_pairs' : num_market_pairs,\n",
    "                                           'date_added' : date_added,\n",
    "                                           'tags' : tags,\n",
    "                                           'max_supply' : max_supply,\n",
    "                                           'circulating_supply' : circulating_supply,\n",
    "                                           'total_supply' : total_supply\n",
    "        \n",
    "                                            }, ignore_index=True)"
   ]
  },
  {
   "cell_type": "code",
   "execution_count": null,
   "metadata": {},
   "outputs": [],
   "source": [
    "# Extract all id's and convert them to a list\n",
    "\n",
    "id_list = basic_cmc_data['id'].tolist()\n",
    "\n",
    "# And chop them up in chunks of n/30\n",
    "\n",
    "chunks = numpy.array_split(numpy.array(id_list),30)"
   ]
  },
  {
   "cell_type": "markdown",
   "metadata": {},
   "source": [
    "Use listing data to get extra information through the info endpoint."
   ]
  },
  {
   "cell_type": "code",
   "execution_count": null,
   "metadata": {},
   "outputs": [],
   "source": [
    "# Create empty dataframe\n",
    "\n",
    "cmc_coins = pd.DataFrame(columns=['category',\n",
    "                                  'date_added',\n",
    "                                  'description',\n",
    "                                  'id_nr',\n",
    "                                  'name',\n",
    "                                  'notice',\n",
    "                                  'platform',\n",
    "                                  'slug',\n",
    "                                  'symbol',\n",
    "                                  'tags',\n",
    "                                  'announcement',\n",
    "                                  'chat',\n",
    "                                  'explorer',\n",
    "                                  'message_board',\n",
    "                                  'reddit',\n",
    "                                  'source_code',\n",
    "                                  'technical_doc',\n",
    "                                  'twitter',\n",
    "                                  'website'                                \n",
    "                                  ])\n",
    "\n",
    "# Set the URL and the headers\n",
    "\n",
    "url = 'https://pro-api.coinmarketcap.com/v1/cryptocurrency/info'\n",
    "\n",
    "headers = {\n",
    "        'Accepts': 'application/json',\n",
    "        'X-CMC_PRO_API_KEY': cmc_api_key\n",
    "    }\n",
    "\n",
    "\n",
    "# Iterate over chunks, call API, and append dataframe with JSON response\n",
    "\n",
    "for chunk in chunks:\n",
    "    string = ''\n",
    "    for i in chunk:\n",
    "        string += str(i) + ','\n",
    "    string = string[:-1]\n",
    "\n",
    "    parameters = {\n",
    "      'id': string\n",
    "    }\n",
    "\n",
    "    coin_info = requests.get(url, params=parameters, headers=headers).json()\n",
    "\n",
    "    for data, coin in coin_info['data'].items():\n",
    "        category = coin['category']\n",
    "        date_added = coin['date_added']\n",
    "        description = coin['description']\n",
    "        id_nr = coin['id']\n",
    "        name = coin['name']\n",
    "        notice = coin['notice']\n",
    "        platform = coin['platform']\n",
    "        slug = coin['slug']\n",
    "        symbol = coin['symbol']\n",
    "        tags = coin['tags']\n",
    "        announcement = coin.get('announcement')\n",
    "        chat = coin.get('chat'),\n",
    "        explorer = coin.get('explorer')\n",
    "        message_board = coin.get('message_board')\n",
    "        reddit = coin.get('reddit')\n",
    "        source_code = coin.get('source_code')\n",
    "        technical_doc = coin.get('technical_doc')\n",
    "        twitter = coin.get('twitter')\n",
    "        website = coin.get('website')\n",
    "\n",
    "        cmc_coins = cmc_coins.append({'category' : category,\n",
    "                                  'date_added' : date_added,\n",
    "                                  'description' : description,\n",
    "                                  'id_nr' : id_nr,\n",
    "                                  'name' : name,\n",
    "                                  'notice' : notice,\n",
    "                                  'platform' : platform,\n",
    "                                  'slug': slug,\n",
    "                                  'symbol' : symbol,\n",
    "                                  'tags' : tags,\n",
    "                                  'announcement' : announcement,\n",
    "                                  'chat' : chat,\n",
    "                                  'explorer' : explorer,\n",
    "                                  'message_board' : message_board,\n",
    "                                  'reddit' : reddit,\n",
    "                                  'source_code' : source_code,\n",
    "                                  'technical_doc' : technical_doc,\n",
    "                                  'twitter' : twitter,\n",
    "                                  'website' : website\n",
    "        \n",
    "                                }, ignore_index=True)\n",
    "    \n",
    "\n"
   ]
  },
  {
   "cell_type": "code",
   "execution_count": null,
   "metadata": {},
   "outputs": [],
   "source": [
    "# Write to csv\n",
    "\n",
    "cmc_coins.to_csv(path_data_temp + coinmarketcap_coins_oct_2019.csv')"
   ]
  },
  {
   "cell_type": "markdown",
   "metadata": {},
   "source": [
    "## Analysis\n",
    "\n",
    "So we have three files with coin data\n",
    "1. binance_issue_dates.csv\n",
    "2. coinmarketcap_coins_oct_2019.csv\n",
    "3. cryptocompare_coins_oct_2019.csv\n",
    "\n",
    "Now we need to extract all the relevant data from these files and add them to one dataframe that serves as a basis for a visualization."
   ]
  },
  {
   "cell_type": "code",
   "execution_count": 69,
   "metadata": {},
   "outputs": [],
   "source": [
    "binance = pd.read_csv(path_data_temp + 'binance_issue_dates.csv')\n",
    "cmc = pd.read_csv(path_data_temp + 'coinmarketcap_coins_oct_2019.csv', )\n",
    "cc = pd.read_csv(path_data_temp + 'cryptocompare_coins_oct_2019.csv')"
   ]
  },
  {
   "cell_type": "code",
   "execution_count": 102,
   "metadata": {},
   "outputs": [],
   "source": [
    "# Clean op binance dataframe\n",
    "\n",
    "binance['Source Url'] = binance['Source Url'].str.replace('https://info.binance.com/en/currencies/', '')\n",
    "binance['Source Url'] = binance['Source Url'].str.replace('-', ' ')\n",
    "\n",
    "binance = binance.rename(columns={'Issue_Date': 'date_binance', 'Source Url': 'name'})"
   ]
  },
  {
   "cell_type": "code",
   "execution_count": 71,
   "metadata": {},
   "outputs": [],
   "source": [
    "# Select subset of columns\n",
    "\n",
    "cmc = cmc[['symbol', 'slug', 'name', 'tags', 'category', 'date_added', 'description']]\n",
    "cc = cc[['symbol', 'full_name', 'is_trading', 'content_created_on', 'algorithm']]"
   ]
  },
  {
   "cell_type": "code",
   "execution_count": 84,
   "metadata": {},
   "outputs": [],
   "source": [
    "# Normalize dates\n",
    "\n",
    "cmc['date_cmc'] = pd.to_datetime(cmc['date_added'], format='%Y-%m-%d').dt.date\n",
    "cc['date_cc'] = pd.to_datetime(cc['content_created_on'],unit='s').dt.date\n",
    "\n",
    "# Clean up columns\n",
    "\n",
    "cmc['name'] = cmc['name'].str.lower()\n",
    "pat = re.compile('\\s\\([A-Z0-9]+\\)', re.IGNORECASE)\n",
    "cc['full_name'] = cc['full_name'].replace(pat, '').str.lower()\n",
    "cc['symbol'] = cc['symbol'].astype(str)\n",
    "cmc['symbol'] = cmc['symbol'].astype(str)"
   ]
  },
  {
   "cell_type": "code",
   "execution_count": 91,
   "metadata": {},
   "outputs": [],
   "source": [
    "cc_cmc = pd.merge(cc, cmc, on='symbol', how='left')\n",
    "len(cc_cmc)"
   ]
  },
  {
   "cell_type": "code",
   "execution_count": 151,
   "metadata": {},
   "outputs": [],
   "source": [
    "all_coins = pd.merge(cc_cmc, binance, on='name', how='left')\n",
    "all_coins['category'].fillna('unknown', inplace=True)\n"
   ]
  },
  {
   "cell_type": "code",
   "execution_count": 152,
   "metadata": {},
   "outputs": [],
   "source": [
    "all_coins[['date_cc', 'date_binance', 'date_cmc']] = all_coins[['date_cc', 'date_binance', 'date_cmc']].apply(pd.to_datetime, errors='coerce')"
   ]
  },
  {
   "cell_type": "code",
   "execution_count": 153,
   "metadata": {},
   "outputs": [],
   "source": [
    "all_coins = all_coins.assign(earliest_date=lambda d: d[['date_cc', 'date_binance', 'date_cmc']].min(1))\n",
    "all_coins['year'] = pd.DatetimeIndex(all_coins['earliest_date']).year"
   ]
  },
  {
   "cell_type": "code",
   "execution_count": 167,
   "metadata": {},
   "outputs": [],
   "source": [
    "viz = all_coins[['symbol', 'earliest_date', 'category', 'year']]"
   ]
  },
  {
   "cell_type": "code",
   "execution_count": 168,
   "metadata": {},
   "outputs": [
    {
     "data": {
      "text/plain": [
       "<matplotlib.axes._subplots.AxesSubplot at 0x7f73e38dce10>"
      ]
     },
     "execution_count": 168,
     "metadata": {},
     "output_type": "execute_result"
    },
    {
     "data": {
      "image/png": "[encoded data removed]",
      "text/plain": [
       "<Figure size 1440x720 with 1 Axes>"
      ]
     },
     "metadata": {
      "needs_background": "light"
     },
     "output_type": "display_data"
    }
   ],
   "source": [
    "viz1 = viz.groupby(viz['year']).count().plot(kind='bar', y='category', figsize=(20,10))\n",
    "viz1"
   ]
  },
  {
   "cell_type": "code",
   "execution_count": 169,
   "metadata": {},
   "outputs": [
    {
     "data": {
      "text/plain": [
       "<matplotlib.axes._subplots.AxesSubplot at 0x7f73e38dcf28>"
      ]
     },
     "execution_count": 169,
     "metadata": {},
     "output_type": "execute_result"
    },
    {
     "data": {
      "image/png": "[encoded data removed]",
      "text/plain": [
       "<Figure size 1440x720 with 1 Axes>"
      ]
     },
     "metadata": {
      "needs_background": "light"
     },
     "output_type": "display_data"
    }
   ],
   "source": [
    "\n",
    "viz2 = viz.groupby(['year', 'category']).size().unstack().plot(kind='bar', stacked=True, figsize=(20,10))\n",
    "\n",
    "viz2"
   ]
  },
  {
   "cell_type": "code",
   "execution_count": null,
   "metadata": {},
   "outputs": [],
   "source": []
  }
 ],
 "metadata": {
  "kernelspec": {
   "display_name": "bitcoin",
   "language": "python",
   "name": "bitcoin"
  },
  "language_info": {
   "codemirror_mode": {
    "name": "ipython",
    "version": 3
   },
   "file_extension": ".py",
   "mimetype": "text/x-python",
   "name": "python",
   "nbconvert_exporter": "python",
   "pygments_lexer": "ipython3",
   "version": "3.6.7"
  }
 },
 "nbformat": 4,
 "nbformat_minor": 2
}
