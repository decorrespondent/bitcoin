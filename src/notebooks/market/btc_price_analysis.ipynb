{
 "cells": [
  {
   "cell_type": "code",
   "execution_count": 1,
   "metadata": {},
   "outputs": [],
   "source": [
    "import config\n",
    "import pandas as pd\n",
    "import matplotlib.pyplot as plt\n",
    "from pandas.plotting import register_matplotlib_converters\n",
    "register_matplotlib_converters()\n",
    "\n",
    "#Do some matplotlib configuration\n",
    "%matplotlib inline\n",
    "plt.rcParams['figure.figsize'] = [20, 10]"
   ]
  },
  {
   "cell_type": "code",
   "execution_count": 4,
   "metadata": {},
   "outputs": [],
   "source": [
    "path_data_temp = config.PATH_DATA_TEMP"
   ]
  },
  {
   "cell_type": "markdown",
   "metadata": {},
   "source": [
    "We need a couple of data sets:\n",
    "1. BTC price in dollars. Yahoo Finance [goes back to 17 July 2010](https://finance.yahoo.com/quote/BTC-EUR/history/).\n",
    "2. A reliable [USD-EUR exchange rate](https://sdw.ecb.europa.eu/quickview.do;jsessionid=8DD8646E685206C2575B5C0E50773A7D?SERIES_KEY=120.EXR.D.USD.EUR.SP00.A&start=17-07-2010&end=30-09-2019&submitOptions.x=0&submitOptions.y=0&trans=N) on those dates since 17 July 2010. There are no exchange rate data for weekends.\n",
    "3. Market Capitalization data, through [CoinMarketCap](https://coinmarketcap.com/currencies/bitcoin/historical-data/), data available from 2013."
   ]
  },
  {
   "cell_type": "code",
   "execution_count": 5,
   "metadata": {},
   "outputs": [
    {
     "data": {
      "text/html": [
       "<div>\n",
       "<style scoped>\n",
       "    .dataframe tbody tr th:only-of-type {\n",
       "        vertical-align: middle;\n",
       "    }\n",
       "\n",
       "    .dataframe tbody tr th {\n",
       "        vertical-align: top;\n",
       "    }\n",
       "\n",
       "    .dataframe thead th {\n",
       "        text-align: right;\n",
       "    }\n",
       "</style>\n",
       "<table border=\"1\" class=\"dataframe\">\n",
       "  <thead>\n",
       "    <tr style=\"text-align: right;\">\n",
       "      <th></th>\n",
       "      <th>date</th>\n",
       "      <th>open</th>\n",
       "      <th>high</th>\n",
       "      <th>low</th>\n",
       "      <th>close</th>\n",
       "      <th>adjusted_close</th>\n",
       "      <th>volume</th>\n",
       "    </tr>\n",
       "  </thead>\n",
       "  <tbody>\n",
       "    <tr>\n",
       "      <th>0</th>\n",
       "      <td>2010-07-17</td>\n",
       "      <td>0.04951</td>\n",
       "      <td>0.04951</td>\n",
       "      <td>0.04951</td>\n",
       "      <td>0.04951</td>\n",
       "      <td>0.04951</td>\n",
       "      <td>0</td>\n",
       "    </tr>\n",
       "    <tr>\n",
       "      <th>1</th>\n",
       "      <td>2010-07-18</td>\n",
       "      <td>0.04951</td>\n",
       "      <td>0.08585</td>\n",
       "      <td>0.05941</td>\n",
       "      <td>0.08584</td>\n",
       "      <td>0.08584</td>\n",
       "      <td>5</td>\n",
       "    </tr>\n",
       "    <tr>\n",
       "      <th>2</th>\n",
       "      <td>2010-07-19</td>\n",
       "      <td>0.08584</td>\n",
       "      <td>0.09307</td>\n",
       "      <td>0.07723</td>\n",
       "      <td>0.08080</td>\n",
       "      <td>0.08080</td>\n",
       "      <td>49</td>\n",
       "    </tr>\n",
       "    <tr>\n",
       "      <th>3</th>\n",
       "      <td>2010-07-20</td>\n",
       "      <td>0.08080</td>\n",
       "      <td>0.08181</td>\n",
       "      <td>0.07426</td>\n",
       "      <td>0.07474</td>\n",
       "      <td>0.07474</td>\n",
       "      <td>20</td>\n",
       "    </tr>\n",
       "    <tr>\n",
       "      <th>4</th>\n",
       "      <td>2010-07-21</td>\n",
       "      <td>0.07474</td>\n",
       "      <td>0.07921</td>\n",
       "      <td>0.06634</td>\n",
       "      <td>0.07921</td>\n",
       "      <td>0.07921</td>\n",
       "      <td>42</td>\n",
       "    </tr>\n",
       "  </tbody>\n",
       "</table>\n",
       "</div>"
      ],
      "text/plain": [
       "         date     open     high      low    close  adjusted_close  volume\n",
       "0  2010-07-17  0.04951  0.04951  0.04951  0.04951         0.04951       0\n",
       "1  2010-07-18  0.04951  0.08585  0.05941  0.08584         0.08584       5\n",
       "2  2010-07-19  0.08584  0.09307  0.07723  0.08080         0.08080      49\n",
       "3  2010-07-20  0.08080  0.08181  0.07426  0.07474         0.07474      20\n",
       "4  2010-07-21  0.07474  0.07921  0.06634  0.07921         0.07921      42"
      ]
     },
     "execution_count": 5,
     "metadata": {},
     "output_type": "execute_result"
    }
   ],
   "source": [
    "#Import BTC-USD historical exchange rate\n",
    "\n",
    "btc_usd = pd.read_csv(path_data_temp + 'btc_price_dollar_yahoo.csv', parse_dates=True)\n",
    "btc_usd.head()"
   ]
  },
  {
   "cell_type": "code",
   "execution_count": 6,
   "metadata": {},
   "outputs": [
    {
     "data": {
      "text/html": [
       "<div>\n",
       "<style scoped>\n",
       "    .dataframe tbody tr th:only-of-type {\n",
       "        vertical-align: middle;\n",
       "    }\n",
       "\n",
       "    .dataframe tbody tr th {\n",
       "        vertical-align: top;\n",
       "    }\n",
       "\n",
       "    .dataframe thead th {\n",
       "        text-align: right;\n",
       "    }\n",
       "</style>\n",
       "<table border=\"1\" class=\"dataframe\">\n",
       "  <thead>\n",
       "    <tr style=\"text-align: right;\">\n",
       "      <th></th>\n",
       "      <th>date</th>\n",
       "      <th>s1</th>\n",
       "    </tr>\n",
       "  </thead>\n",
       "  <tbody>\n",
       "    <tr>\n",
       "      <th>0</th>\n",
       "      <td>2010-07-19</td>\n",
       "      <td>1.2957</td>\n",
       "    </tr>\n",
       "    <tr>\n",
       "      <th>1</th>\n",
       "      <td>2010-07-20</td>\n",
       "      <td>1.2844</td>\n",
       "    </tr>\n",
       "    <tr>\n",
       "      <th>2</th>\n",
       "      <td>2010-07-21</td>\n",
       "      <td>1.2817</td>\n",
       "    </tr>\n",
       "    <tr>\n",
       "      <th>3</th>\n",
       "      <td>2010-07-22</td>\n",
       "      <td>1.2850</td>\n",
       "    </tr>\n",
       "    <tr>\n",
       "      <th>4</th>\n",
       "      <td>2010-07-23</td>\n",
       "      <td>1.2897</td>\n",
       "    </tr>\n",
       "  </tbody>\n",
       "</table>\n",
       "</div>"
      ],
      "text/plain": [
       "         date      s1\n",
       "0  2010-07-19  1.2957\n",
       "1  2010-07-20  1.2844\n",
       "2  2010-07-21  1.2817\n",
       "3  2010-07-22  1.2850\n",
       "4  2010-07-23  1.2897"
      ]
     },
     "execution_count": 6,
     "metadata": {},
     "output_type": "execute_result"
    }
   ],
   "source": [
    "#Import USD-EUR historical exchange rate\n",
    "\n",
    "usd_eur = pd.read_csv(path_data_temp + 'usd_eur_ecb.csv', parse_dates=True, usecols=['date', 's1'])\n",
    "usd_eur.head()"
   ]
  },
  {
   "cell_type": "code",
   "execution_count": 7,
   "metadata": {},
   "outputs": [
    {
     "data": {
      "text/html": [
       "<div>\n",
       "<style scoped>\n",
       "    .dataframe tbody tr th:only-of-type {\n",
       "        vertical-align: middle;\n",
       "    }\n",
       "\n",
       "    .dataframe tbody tr th {\n",
       "        vertical-align: top;\n",
       "    }\n",
       "\n",
       "    .dataframe thead th {\n",
       "        text-align: right;\n",
       "    }\n",
       "</style>\n",
       "<table border=\"1\" class=\"dataframe\">\n",
       "  <thead>\n",
       "    <tr style=\"text-align: right;\">\n",
       "      <th></th>\n",
       "      <th>date</th>\n",
       "      <th>open</th>\n",
       "      <th>high</th>\n",
       "      <th>low</th>\n",
       "      <th>close</th>\n",
       "      <th>adjusted_close</th>\n",
       "      <th>volume</th>\n",
       "      <th>s1</th>\n",
       "    </tr>\n",
       "  </thead>\n",
       "  <tbody>\n",
       "    <tr>\n",
       "      <th>0</th>\n",
       "      <td>2010-07-17</td>\n",
       "      <td>0.04951</td>\n",
       "      <td>0.04951</td>\n",
       "      <td>0.04951</td>\n",
       "      <td>0.04951</td>\n",
       "      <td>0.04951</td>\n",
       "      <td>0</td>\n",
       "      <td>NaN</td>\n",
       "    </tr>\n",
       "    <tr>\n",
       "      <th>1</th>\n",
       "      <td>2010-07-18</td>\n",
       "      <td>0.04951</td>\n",
       "      <td>0.08585</td>\n",
       "      <td>0.05941</td>\n",
       "      <td>0.08584</td>\n",
       "      <td>0.08584</td>\n",
       "      <td>5</td>\n",
       "      <td>NaN</td>\n",
       "    </tr>\n",
       "    <tr>\n",
       "      <th>2</th>\n",
       "      <td>2010-07-19</td>\n",
       "      <td>0.08584</td>\n",
       "      <td>0.09307</td>\n",
       "      <td>0.07723</td>\n",
       "      <td>0.08080</td>\n",
       "      <td>0.08080</td>\n",
       "      <td>49</td>\n",
       "      <td>1.2957</td>\n",
       "    </tr>\n",
       "    <tr>\n",
       "      <th>3</th>\n",
       "      <td>2010-07-20</td>\n",
       "      <td>0.08080</td>\n",
       "      <td>0.08181</td>\n",
       "      <td>0.07426</td>\n",
       "      <td>0.07474</td>\n",
       "      <td>0.07474</td>\n",
       "      <td>20</td>\n",
       "      <td>1.2844</td>\n",
       "    </tr>\n",
       "    <tr>\n",
       "      <th>4</th>\n",
       "      <td>2010-07-21</td>\n",
       "      <td>0.07474</td>\n",
       "      <td>0.07921</td>\n",
       "      <td>0.06634</td>\n",
       "      <td>0.07921</td>\n",
       "      <td>0.07921</td>\n",
       "      <td>42</td>\n",
       "      <td>1.2817</td>\n",
       "    </tr>\n",
       "  </tbody>\n",
       "</table>\n",
       "</div>"
      ],
      "text/plain": [
       "         date     open     high      low    close  adjusted_close  volume  \\\n",
       "0  2010-07-17  0.04951  0.04951  0.04951  0.04951         0.04951       0   \n",
       "1  2010-07-18  0.04951  0.08585  0.05941  0.08584         0.08584       5   \n",
       "2  2010-07-19  0.08584  0.09307  0.07723  0.08080         0.08080      49   \n",
       "3  2010-07-20  0.08080  0.08181  0.07426  0.07474         0.07474      20   \n",
       "4  2010-07-21  0.07474  0.07921  0.06634  0.07921         0.07921      42   \n",
       "\n",
       "       s1  \n",
       "0     NaN  \n",
       "1     NaN  \n",
       "2  1.2957  \n",
       "3  1.2844  \n",
       "4  1.2817  "
      ]
     },
     "execution_count": 7,
     "metadata": {},
     "output_type": "execute_result"
    }
   ],
   "source": [
    "#Merge dataframes on dates\n",
    "\n",
    "btc_eur = pd.merge(btc_usd, usd_eur, on='date', how='outer')\n",
    "btc_eur.head()"
   ]
  },
  {
   "cell_type": "code",
   "execution_count": 8,
   "metadata": {},
   "outputs": [],
   "source": [
    "#Rename columns, convert dates to datetime and fill NaNs\n",
    "\n",
    "btc_eur = btc_eur.rename(columns={'s1':'exchange_rate'})\n",
    "btc_eur.date = pd.to_datetime(btc_eur.date)\n",
    "btc_eur['exchange_rate'] = btc_eur['exchange_rate'].fillna(method='ffill')"
   ]
  },
  {
   "cell_type": "code",
   "execution_count": 9,
   "metadata": {},
   "outputs": [
    {
     "data": {
      "text/html": [
       "<div>\n",
       "<style scoped>\n",
       "    .dataframe tbody tr th:only-of-type {\n",
       "        vertical-align: middle;\n",
       "    }\n",
       "\n",
       "    .dataframe tbody tr th {\n",
       "        vertical-align: top;\n",
       "    }\n",
       "\n",
       "    .dataframe thead th {\n",
       "        text-align: right;\n",
       "    }\n",
       "</style>\n",
       "<table border=\"1\" class=\"dataframe\">\n",
       "  <thead>\n",
       "    <tr style=\"text-align: right;\">\n",
       "      <th></th>\n",
       "      <th>date</th>\n",
       "      <th>open</th>\n",
       "      <th>high</th>\n",
       "      <th>low</th>\n",
       "      <th>close</th>\n",
       "      <th>adjusted_close</th>\n",
       "      <th>volume</th>\n",
       "      <th>exchange_rate</th>\n",
       "      <th>close_euro</th>\n",
       "    </tr>\n",
       "  </thead>\n",
       "  <tbody>\n",
       "    <tr>\n",
       "      <th>3357</th>\n",
       "      <td>2019-09-25</td>\n",
       "      <td>8542.540039</td>\n",
       "      <td>8752.200195</td>\n",
       "      <td>8246.240234</td>\n",
       "      <td>8446.969727</td>\n",
       "      <td>8446.969727</td>\n",
       "      <td>631898763</td>\n",
       "      <td>1.0982</td>\n",
       "      <td>7691.649724</td>\n",
       "    </tr>\n",
       "    <tr>\n",
       "      <th>3358</th>\n",
       "      <td>2019-09-26</td>\n",
       "      <td>8446.969727</td>\n",
       "      <td>8471.019531</td>\n",
       "      <td>7753.709961</td>\n",
       "      <td>8074.990234</td>\n",
       "      <td>8074.990234</td>\n",
       "      <td>652614929</td>\n",
       "      <td>1.0938</td>\n",
       "      <td>7382.510728</td>\n",
       "    </tr>\n",
       "    <tr>\n",
       "      <th>3359</th>\n",
       "      <td>2019-09-27</td>\n",
       "      <td>8074.990234</td>\n",
       "      <td>8304.219727</td>\n",
       "      <td>7888.500000</td>\n",
       "      <td>8201.360352</td>\n",
       "      <td>8201.360352</td>\n",
       "      <td>390323710</td>\n",
       "      <td>1.0935</td>\n",
       "      <td>7500.100916</td>\n",
       "    </tr>\n",
       "    <tr>\n",
       "      <th>3360</th>\n",
       "      <td>2019-09-28</td>\n",
       "      <td>8201.360352</td>\n",
       "      <td>8345.030273</td>\n",
       "      <td>8044.450195</td>\n",
       "      <td>8223.650391</td>\n",
       "      <td>8223.650391</td>\n",
       "      <td>244186983</td>\n",
       "      <td>1.0935</td>\n",
       "      <td>7520.485040</td>\n",
       "    </tr>\n",
       "    <tr>\n",
       "      <th>3361</th>\n",
       "      <td>2019-09-29</td>\n",
       "      <td>8223.650391</td>\n",
       "      <td>8265.990234</td>\n",
       "      <td>7943.330078</td>\n",
       "      <td>8065.259766</td>\n",
       "      <td>8065.259766</td>\n",
       "      <td>226594823</td>\n",
       "      <td>1.0935</td>\n",
       "      <td>7375.637646</td>\n",
       "    </tr>\n",
       "  </tbody>\n",
       "</table>\n",
       "</div>"
      ],
      "text/plain": [
       "           date         open         high          low        close  \\\n",
       "3357 2019-09-25  8542.540039  8752.200195  8246.240234  8446.969727   \n",
       "3358 2019-09-26  8446.969727  8471.019531  7753.709961  8074.990234   \n",
       "3359 2019-09-27  8074.990234  8304.219727  7888.500000  8201.360352   \n",
       "3360 2019-09-28  8201.360352  8345.030273  8044.450195  8223.650391   \n",
       "3361 2019-09-29  8223.650391  8265.990234  7943.330078  8065.259766   \n",
       "\n",
       "      adjusted_close     volume  exchange_rate   close_euro  \n",
       "3357     8446.969727  631898763         1.0982  7691.649724  \n",
       "3358     8074.990234  652614929         1.0938  7382.510728  \n",
       "3359     8201.360352  390323710         1.0935  7500.100916  \n",
       "3360     8223.650391  244186983         1.0935  7520.485040  \n",
       "3361     8065.259766  226594823         1.0935  7375.637646  "
      ]
     },
     "execution_count": 9,
     "metadata": {},
     "output_type": "execute_result"
    }
   ],
   "source": [
    "#Calculate historical BTC price in EUR.\n",
    "\n",
    "btc_eur['close_euro'] = btc_eur['close'] / btc_eur['exchange_rate']\n",
    "btc_eur = btc_eur.dropna()\n",
    "btc_eur.tail()"
   ]
  },
  {
   "cell_type": "code",
   "execution_count": 10,
   "metadata": {},
   "outputs": [
    {
     "data": {
      "image/png": "[encoded data removed]",
      "text/plain": [
       "<Figure size 432x288 with 1 Axes>"
      ]
     },
     "metadata": {
      "needs_background": "light"
     },
     "output_type": "display_data"
    }
   ],
   "source": [
    "btc_eur.plot(kind='line', x='date', y='close_euro', color='green')\n",
    "#plt.show()\n",
    "plt.savefig('bitcoin_usd.png')"
   ]
  },
  {
   "cell_type": "code",
   "execution_count": 11,
   "metadata": {},
   "outputs": [
    {
     "data": {
      "text/html": [
       "<div>\n",
       "<style scoped>\n",
       "    .dataframe tbody tr th:only-of-type {\n",
       "        vertical-align: middle;\n",
       "    }\n",
       "\n",
       "    .dataframe tbody tr th {\n",
       "        vertical-align: top;\n",
       "    }\n",
       "\n",
       "    .dataframe thead th {\n",
       "        text-align: right;\n",
       "    }\n",
       "</style>\n",
       "<table border=\"1\" class=\"dataframe\">\n",
       "  <thead>\n",
       "    <tr style=\"text-align: right;\">\n",
       "      <th></th>\n",
       "      <th>date</th>\n",
       "      <th>high</th>\n",
       "      <th>low</th>\n",
       "      <th>volume</th>\n",
       "      <th>market_cap</th>\n",
       "    </tr>\n",
       "  </thead>\n",
       "  <tbody>\n",
       "    <tr>\n",
       "      <th>0</th>\n",
       "      <td>2019-09-29</td>\n",
       "      <td>8261,71</td>\n",
       "      <td>7990,50</td>\n",
       "      <td>13034629109</td>\n",
       "      <td>145590374681</td>\n",
       "    </tr>\n",
       "    <tr>\n",
       "      <th>1</th>\n",
       "      <td>2019-09-28</td>\n",
       "      <td>8285,62</td>\n",
       "      <td>8125,43</td>\n",
       "      <td>14141152736</td>\n",
       "      <td>148122503616</td>\n",
       "    </tr>\n",
       "    <tr>\n",
       "      <th>2</th>\n",
       "      <td>2019-09-27</td>\n",
       "      <td>8271,52</td>\n",
       "      <td>7965,92</td>\n",
       "      <td>16408941156</td>\n",
       "      <td>148212635834</td>\n",
       "    </tr>\n",
       "    <tr>\n",
       "      <th>3</th>\n",
       "      <td>2019-09-26</td>\n",
       "      <td>8515,69</td>\n",
       "      <td>7895,63</td>\n",
       "      <td>19258205289</td>\n",
       "      <td>145812492488</td>\n",
       "    </tr>\n",
       "    <tr>\n",
       "      <th>4</th>\n",
       "      <td>2019-09-25</td>\n",
       "      <td>8744,83</td>\n",
       "      <td>8325,40</td>\n",
       "      <td>21744728353</td>\n",
       "      <td>152404005091</td>\n",
       "    </tr>\n",
       "  </tbody>\n",
       "</table>\n",
       "</div>"
      ],
      "text/plain": [
       "        date     high      low       volume    market_cap\n",
       "0 2019-09-29  8261,71  7990,50  13034629109  145590374681\n",
       "1 2019-09-28  8285,62  8125,43  14141152736  148122503616\n",
       "2 2019-09-27  8271,52  7965,92  16408941156  148212635834\n",
       "3 2019-09-26  8515,69  7895,63  19258205289  145812492488\n",
       "4 2019-09-25  8744,83  8325,40  21744728353  152404005091"
      ]
     },
     "execution_count": 11,
     "metadata": {},
     "output_type": "execute_result"
    }
   ],
   "source": [
    "#Look at market capitalization (mc)\n",
    "\n",
    "mc = pd.read_csv(path_data_temp + 'btc_price_coinmarketcap.csv', parse_dates=True)\n",
    "mc.date = pd.to_datetime(mc.date)\n",
    "mc.head()"
   ]
  },
  {
   "cell_type": "code",
   "execution_count": 12,
   "metadata": {},
   "outputs": [
    {
     "data": {
      "image/png": "[encoded data removed]",
      "text/plain": [
       "<Figure size 432x288 with 1 Axes>"
      ]
     },
     "metadata": {
      "needs_background": "light"
     },
     "output_type": "display_data"
    }
   ],
   "source": [
    "mc.plot(kind='line', x='date', y='market_cap', color='red')\n",
    "#plt.show()\n",
    "plt.savefig('bitcoin_market_value.png')"
   ]
  },
  {
   "cell_type": "code",
   "execution_count": 13,
   "metadata": {
    "scrolled": false
   },
   "outputs": [],
   "source": [
    "#Select values between two dates for further inspection\n",
    "\n",
    "def plot_daterange(start_date, end_date):\n",
    "    \n",
    "    '''takes a start_date and end_date\n",
    "    and plots a line chart'''\n",
    "    \n",
    "    mask = (btc_eur['date'] > start_date) & (btc_eur['date'] <= end_date)\n",
    "    date_range = btc_eur.loc[mask]\n",
    "    date_range.plot(kind='line', x='date', y='close_euro', color='blue')\n",
    "    plt.grid(b=True, which='major', color='#666666', linestyle='-')\n",
    "\n",
    "    return plt.show()"
   ]
  },
  {
   "cell_type": "code",
   "execution_count": 21,
   "metadata": {},
   "outputs": [
    {
     "data": {
      "image/png": "[encoded data removed]",
      "text/plain": [
       "<Figure size 1440x720 with 1 Axes>"
      ]
     },
     "metadata": {
      "needs_background": "light"
     },
     "output_type": "display_data"
    }
   ],
   "source": [
    "start_date = '2017-05-25'\n",
    "end_date = '2018-05-25'\n",
    "\n",
    "plot_daterange(start_date, end_date)"
   ]
  },
  {
   "cell_type": "code",
   "execution_count": 14,
   "metadata": {},
   "outputs": [],
   "source": [
    "#Compare with Google trends\n",
    "\n",
    "google_trends = pd.read_csv(path_data_temp + 'google_trends_btc.csv')\n",
    "google_trends.month = pd.to_datetime(google_trends.month)\n",
    "google_trends['bitcoin: (Worldwide)'].replace('<1', 0, inplace=True)\n",
    "google_trends['bitcoin: (Worldwide)'] = google_trends['bitcoin: (Worldwide)'].astype('float')"
   ]
  },
  {
   "cell_type": "code",
   "execution_count": 18,
   "metadata": {},
   "outputs": [],
   "source": [
    "def plot_google_daterange(start_date, end_date):\n",
    "    \n",
    "    '''takes a start_date and end_date\n",
    "    and plots a line chart'''\n",
    "    \n",
    "    mask = (google_trends['month'] > start_date) & (google_trends['month'] <= end_date)\n",
    "    date_range = google_trends.loc[mask]\n",
    "    date_range.plot(kind='line', x='month', y='bitcoin: (Worldwide)', color='blue')\n",
    "    plt.grid(b=True, which='major', color='#666666', linestyle='-')\n",
    "\n",
    "    return plt.savefig('google_trends_bitcoin.png')#plt.show()"
   ]
  },
  {
   "cell_type": "code",
   "execution_count": 20,
   "metadata": {},
   "outputs": [
    {
     "data": {
      "image/png": "[encoded data removed]",
      "text/plain": [
       "<Figure size 432x288 with 1 Axes>"
      ]
     },
     "metadata": {
      "needs_background": "light"
     },
     "output_type": "display_data"
    }
   ],
   "source": [
    "start_date = '2008-10-01'\n",
    "end_date = '2019-10-01'\n",
    "\n",
    "plot_google_daterange(start_date, end_date)"
   ]
  },
  {
   "cell_type": "code",
   "execution_count": null,
   "metadata": {},
   "outputs": [],
   "source": []
  }
 ],
 "metadata": {
  "kernelspec": {
   "display_name": "bitcoin",
   "language": "python",
   "name": "bitcoin"
  },
  "language_info": {
   "codemirror_mode": {
    "name": "ipython",
    "version": 3
   },
   "file_extension": ".py",
   "mimetype": "text/x-python",
   "name": "python",
   "nbconvert_exporter": "python",
   "pygments_lexer": "ipython3",
   "version": "3.6.7"
  }
 },
 "nbformat": 4,
 "nbformat_minor": 2
}
