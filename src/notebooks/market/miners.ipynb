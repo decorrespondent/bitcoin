{
 "cells": [
  {
   "cell_type": "code",
   "execution_count": 1,
   "metadata": {},
   "outputs": [],
   "source": [
    "import requests\n",
    "import pandas as pd\n",
    "import config\n",
    "import pprint\n",
    "import numpy\n",
    "import re\n",
    "import matplotlib.pyplot as plt"
   ]
  },
  {
   "cell_type": "markdown",
   "metadata": {},
   "source": [
    "## 1. Cryptocompare\n",
    "Scrape cryptocompare for data on miners"
   ]
  },
  {
   "cell_type": "code",
   "execution_count": 2,
   "metadata": {},
   "outputs": [],
   "source": [
    "cc_api_key = config.CRYPTO_COMPARE_API\n",
    "cmc_api_key = config.COINMARKETCAP_API\n",
    "path_data_temp = config.PATH_DATA_TEMP"
   ]
  },
  {
   "cell_type": "code",
   "execution_count": 3,
   "metadata": {},
   "outputs": [],
   "source": [
    "# Call the API\n",
    "\n",
    "endpoint_mining = 'https://min-api.cryptocompare.com/data/mining/companies/general?extraParams=CorrieCoin&api_key='\n",
    "\n",
    "r = endpoint_mining + cc_api_key\n",
    "\n",
    "company_search = requests.get(r).json()"
   ]
  },
  {
   "cell_type": "code",
   "execution_count": 8,
   "metadata": {},
   "outputs": [],
   "source": [
    "# Create an empty dataframe\n",
    "\n",
    "mining_companies = pd.DataFrame(columns=['country', 'id', 'name', \n",
    "                                         'rating_avg', 'recommended', \n",
    "                                         'sort_order', 'sponsored',\n",
    "                                        'affiliate_url', 'total_users'])"
   ]
  },
  {
   "cell_type": "code",
   "execution_count": 9,
   "metadata": {},
   "outputs": [],
   "source": [
    "# Loop through the API results and append the emtpy dataframe\n",
    "\n",
    "for company, data in company_search['Data'].items():\n",
    "    country = data['Country']\n",
    "    id_nr = data['Id']\n",
    "    name = data['Name']\n",
    "    rating_avg = data['Rating'].get('Avg')\n",
    "    recommended = data['Recommended']\n",
    "    sort_order = data['SortOrder']\n",
    "    sponsored = data['Sponsored']\n",
    "    affiliate_url = data['AffiliateURL']\n",
    "    total_users = data['Rating'].get('TotalUsers')\n",
    "    \n",
    "    mining_companies = mining_companies.append({'country' : country, \n",
    "                                                'id' : id_nr, \n",
    "                                                'name' : name, \n",
    "                                                'rating_avg' : rating_avg, \n",
    "                                                'recommended' : recommended,\n",
    "                                                'sort_order' : sort_order, \n",
    "                                                'sponsored' : sponsored,\n",
    "                                                'affiliate_url' : affiliate_url,\n",
    "                                                'total_users' : total_users}, ignore_index=True)"
   ]
  },
  {
   "cell_type": "code",
   "execution_count": 11,
   "metadata": {},
   "outputs": [],
   "source": [
    "mining_companies.to_csv(path_data_temp + 'cc_mining_companies_oct_2019.csv')"
   ]
  },
  {
   "cell_type": "code",
   "execution_count": 12,
   "metadata": {},
   "outputs": [
    {
     "data": {
      "text/plain": [
       "U.S.A             13\n",
       "China              8\n",
       "Hong Kong          4\n",
       "Canada             3\n",
       "United Kingdom     3\n",
       "Unknown            3\n",
       "Austria            3\n",
       "Bulgaria           2\n",
       "Estonia            2\n",
       "Ireland            2\n",
       "Germany            2\n",
       "Taiwan             2\n",
       "France             2\n",
       "Spain              2\n",
       "Norway             2\n",
       "Romania            2\n",
       "Bermuda            1\n",
       "Seychelles         1\n",
       "Israel             1\n",
       "Peru               1\n",
       "Georgia            1\n",
       "Scotland           1\n",
       "Poland             1\n",
       "South Africa       1\n",
       "Netherlands        1\n",
       "Armenia            1\n",
       "India              1\n",
       "Slovenia           1\n",
       "Switzerland        1\n",
       "Name: country, dtype: int64"
      ]
     },
     "execution_count": 12,
     "metadata": {},
     "output_type": "execute_result"
    }
   ],
   "source": [
    "mining_companies.country.value_counts()"
   ]
  },
  {
   "cell_type": "code",
   "execution_count": 13,
   "metadata": {},
   "outputs": [
    {
     "data": {
      "text/html": [
       "<div>\n",
       "<style scoped>\n",
       "    .dataframe tbody tr th:only-of-type {\n",
       "        vertical-align: middle;\n",
       "    }\n",
       "\n",
       "    .dataframe tbody tr th {\n",
       "        vertical-align: top;\n",
       "    }\n",
       "\n",
       "    .dataframe thead th {\n",
       "        text-align: right;\n",
       "    }\n",
       "</style>\n",
       "<table border=\"1\" class=\"dataframe\">\n",
       "  <thead>\n",
       "    <tr style=\"text-align: right;\">\n",
       "      <th></th>\n",
       "      <th>country</th>\n",
       "      <th>id</th>\n",
       "      <th>name</th>\n",
       "      <th>rating_avg</th>\n",
       "      <th>recommended</th>\n",
       "      <th>sort_order</th>\n",
       "      <th>sponsored</th>\n",
       "      <th>affiliate_url</th>\n",
       "      <th>total_users</th>\n",
       "    </tr>\n",
       "  </thead>\n",
       "  <tbody>\n",
       "    <tr>\n",
       "      <th>60</th>\n",
       "      <td>Netherlands</td>\n",
       "      <td>930195</td>\n",
       "      <td>Satoshi Miners</td>\n",
       "      <td>4.4</td>\n",
       "      <td>False</td>\n",
       "      <td>88</td>\n",
       "      <td>False</td>\n",
       "      <td>https://satoshiminers.com/</td>\n",
       "      <td>138</td>\n",
       "    </tr>\n",
       "  </tbody>\n",
       "</table>\n",
       "</div>"
      ],
      "text/plain": [
       "        country      id            name  rating_avg recommended sort_order  \\\n",
       "60  Netherlands  930195  Satoshi Miners         4.4       False         88   \n",
       "\n",
       "   sponsored               affiliate_url total_users  \n",
       "60     False  https://satoshiminers.com/         138  "
      ]
     },
     "execution_count": 13,
     "metadata": {},
     "output_type": "execute_result"
    }
   ],
   "source": [
    "mining_companies.loc[mining_companies['country'] == 'Netherlands']"
   ]
  },
  {
   "cell_type": "markdown",
   "metadata": {},
   "source": [
    "Deze Nederlandse miner (eerder shop) is waarschijnlijk een scam, zie [bitcointalk](https://bitcointalk.org/index.php?topic=5149742.0)"
   ]
  },
  {
   "cell_type": "markdown",
   "metadata": {},
   "source": [
    "### Have a look at the mining pools"
   ]
  },
  {
   "cell_type": "code",
   "execution_count": 14,
   "metadata": {},
   "outputs": [],
   "source": [
    "endpoint_pools = 'https://min-api.cryptocompare.com/data/mining/pools/general?extraParams=CorrieCoin&api_key='\n",
    "\n",
    "r = endpoint_pools + cc_api_key\n",
    "\n",
    "pool_search = requests.get(r).json()"
   ]
  },
  {
   "cell_type": "code",
   "execution_count": 16,
   "metadata": {},
   "outputs": [],
   "source": [
    "mining_pools = pd.DataFrame(columns=['affiliate_url',\n",
    "                                     'average_fee', \n",
    "                                     'coins',\n",
    "                                     'fee_expanded',\n",
    "                                     'id',\n",
    "                                     'merged_mining',\n",
    "                                     'merged_mining_coins',\n",
    "                                     'minimum_payout',\n",
    "                                     'name',\n",
    "                                     'payment_type',\n",
    "                                     'pool_features',\n",
    "                                     'avg_rating',\n",
    "                                     'recommended',\n",
    "                                     'server_locations',\n",
    "                                     'sort_order',\n",
    "                                     'sponsored',\n",
    "                                     'tx_fee_shared_with_miner'\n",
    "                                    ])"
   ]
  },
  {
   "cell_type": "code",
   "execution_count": 17,
   "metadata": {},
   "outputs": [],
   "source": [
    "for company, data in pool_search['Data'].items():\n",
    "    affiliate_url = data['AffiliateURL']\n",
    "    average_fee = data['AverageFee']\n",
    "    coins = data['Coins']\n",
    "    fee_expanded = data['FeeExpanded']\n",
    "    id_nr = data['Id']\n",
    "    merged_mining = data['MergedMining']\n",
    "    merged_mining_coins = data['MergedMiningCoins']\n",
    "    minimum_payout = data['MinimumPayout']\n",
    "    name = data['Name']\n",
    "    payment_type = data['PaymentType']\n",
    "    pool_features = data ['PoolFeatures']\n",
    "    avg_rating = data['Rating'].get('Avg')\n",
    "    recommended = data['Recommended']\n",
    "    server_locations = data['ServerLocations']\n",
    "    sort_order = data['SortOrder']\n",
    "    sponsored = data['Sponsored']\n",
    "    tx_fee_shared_with_miner = data['TxFeeSharedWithMiner']\n",
    "    \n",
    "    mining_pools = mining_pools.append({'affiliate_url' : affiliate_url,\n",
    "                                     'average_fee' : average_fee, \n",
    "                                     'coins': coins,\n",
    "                                     'fee_expanded' : fee_expanded,\n",
    "                                     'id' : id_nr,\n",
    "                                     'merged_mining' : merged_mining,\n",
    "                                     'merged_mining_coins' : merged_mining_coins,\n",
    "                                     'minimum_payout' : minimum_payout,\n",
    "                                     'name': name,\n",
    "                                     'payment_type' : payment_type,\n",
    "                                     'pool_features' : pool_features,\n",
    "                                     'avg_rating' : avg_rating,\n",
    "                                     'recommended' : recommended,\n",
    "                                     'server_locations' : server_locations,\n",
    "                                     'sort_order' : sort_order,\n",
    "                                     'sponsored' : sponsored,\n",
    "                                     'tx_fee_shared_with_miner' : tx_fee_shared_with_miner}, ignore_index=True)\n",
    "    "
   ]
  },
  {
   "cell_type": "code",
   "execution_count": 18,
   "metadata": {},
   "outputs": [],
   "source": [
    "mining_pools.to_csv(path_data_temp + 'cc_mining_pools_oct_2019.csv')"
   ]
  },
  {
   "cell_type": "code",
   "execution_count": null,
   "metadata": {},
   "outputs": [],
   "source": []
  }
 ],
 "metadata": {
  "kernelspec": {
   "display_name": "bitcoin",
   "language": "python",
   "name": "bitcoin"
  },
  "language_info": {
   "codemirror_mode": {
    "name": "ipython",
    "version": 3
   },
   "file_extension": ".py",
   "mimetype": "text/x-python",
   "name": "python",
   "nbconvert_exporter": "python",
   "pygments_lexer": "ipython3",
   "version": "3.6.7"
  }
 },
 "nbformat": 4,
 "nbformat_minor": 2
}
