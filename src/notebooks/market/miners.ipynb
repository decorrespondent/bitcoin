{
 "cells": [
  {
   "cell_type": "code",
   "execution_count": null,
   "metadata": {},
   "outputs": [],
   "source": [
    "import requests\n",
    "import pandas as pd\n",
    "import config\n",
    "import pprint\n",
    "import numpy\n",
    "import re\n",
    "import matplotlib.pyplot as plt"
   ]
  },
  {
   "cell_type": "markdown",
   "metadata": {},
   "source": [
    "## 1. Cryptocompare\n",
    "Scrape cryptocompare for data on miners"
   ]
  },
  {
   "cell_type": "code",
   "execution_count": null,
   "metadata": {},
   "outputs": [],
   "source": [
    "cc_api_key = config.CRYPTO_COMPARE_API\n",
    "cmc_api_key = config.COINMARKETCAP_API\n",
    "path_data_temp = config.PATH_DATA_TEMP"
   ]
  },
  {
   "cell_type": "code",
   "execution_count": null,
   "metadata": {},
   "outputs": [],
   "source": [
    "# Call the API\n",
    "\n",
    "endpoint_mining = 'https://min-api.cryptocompare.com/data/mining/companies/general?extraParams=CorrieCoin&api_key='\n",
    "\n",
    "r = endpoint_mining + cc_api_key\n",
    "\n",
    "company_search = requests.get(r).json()"
   ]
  },
  {
   "cell_type": "code",
   "execution_count": null,
   "metadata": {},
   "outputs": [],
   "source": [
    "# Create an empty dataframe\n",
    "\n",
    "mining_companies = pd.DataFrame(columns=['country', 'id', 'name', \n",
    "                                         'rating_avg', 'recommended', \n",
    "                                         'sort_order', 'sponsored',\n",
    "                                        'affiliate_url', 'total_users'])"
   ]
  },
  {
   "cell_type": "code",
   "execution_count": null,
   "metadata": {},
   "outputs": [],
   "source": [
    "# Loop through the API results and append the emtpy dataframe\n",
    "\n",
    "for company, data in company_search['Data'].items():\n",
    "    country = data['Country']\n",
    "    id_nr = data['Id']\n",
    "    name = data['Name']\n",
    "    rating_avg = data['Rating'].get('Avg')\n",
    "    recommended = data['Recommended']\n",
    "    sort_order = data['SortOrder']\n",
    "    sponsored = data['Sponsored']\n",
    "    affiliate_url = data['AffiliateURL']\n",
    "    total_users = data['Rating'].get('TotalUsers')\n",
    "    \n",
    "    mining_companies = mining_companies.append({'country' : country, \n",
    "                                                'id' : id_nr, \n",
    "                                                'name' : name, \n",
    "                                                'rating_avg' : rating_avg, \n",
    "                                                'recommended' : recommended,\n",
    "                                                'sort_order' : sort_order, \n",
    "                                                'sponsored' : sponsored,\n",
    "                                                'affiliate_url' : affiliate_url,\n",
    "                                                'total_users' : total_users}, ignore_index=True)"
   ]
  },
  {
   "cell_type": "markdown",
   "metadata": {},
   "source": [
    "### Have a look at the mining pools"
   ]
  },
  {
   "cell_type": "code",
   "execution_count": null,
   "metadata": {},
   "outputs": [],
   "source": [
    "endpoint_pools = 'https://min-api.cryptocompare.com/data/mining/pools/general?extraParams=CorrieCoin&api_key='\n",
    "\n",
    "r = endpoint_pools + cc_api_key\n",
    "\n",
    "pool_search = requests.get(r).json()"
   ]
  },
  {
   "cell_type": "code",
   "execution_count": null,
   "metadata": {},
   "outputs": [],
   "source": [
    "mining_pools = pd.DataFrame(columns=['affiliate_url',\n",
    "                                     'average_fee', \n",
    "                                     'coins',\n",
    "                                     'fee_expanded',\n",
    "                                     'id',\n",
    "                                     'merged_mining',\n",
    "                                     'merged_mining_coins',\n",
    "                                     'minimum_payout',\n",
    "                                     'name',\n",
    "                                     'payment_type',\n",
    "                                     'pool_features',\n",
    "                                     'avg_rating',\n",
    "                                     'recommended',\n",
    "                                     'server_locations',\n",
    "                                     'sort_order',\n",
    "                                     'sponsored',\n",
    "                                     'tx_fee_shared_with_miner'\n",
    "                                    ])"
   ]
  },
  {
   "cell_type": "code",
   "execution_count": null,
   "metadata": {},
   "outputs": [],
   "source": [
    "for company, data in pool_search['Data'].items():\n",
    "    affiliate_url = data['AffiliateURL']\n",
    "    average_fee = data['AverageFee']\n",
    "    coins = data['Coins']\n",
    "    fee_expanded = data['FeeExpanded']\n",
    "    id_nr = data['Id']\n",
    "    merged_mining = data['MergedMining']\n",
    "    merged_mining_coins = data['MergedMiningCoins']\n",
    "    minimum_payout = data['MinimumPayout']\n",
    "    name = data['Name']\n",
    "    payment_type = data['PaymentType']\n",
    "    pool_features = data ['PoolFeatures']\n",
    "    avg_rating = data['Rating'].get('Avg')\n",
    "    recommended = data['Recommended']\n",
    "    server_locations = data['ServerLocations']\n",
    "    sort_order = data['SortOrder']\n",
    "    sponsored = data['Sponsored']\n",
    "    tx_fee_shared_with_miner = data['TxFeeSharedWithMiner']\n",
    "    \n",
    "    mining_pools = mining_pools.append({'affiliate_url' : affiliate_url,\n",
    "                                     'average_fee' : average_fee, \n",
    "                                     'coins': coins,\n",
    "                                     'fee_expanded' : fee_expanded,\n",
    "                                     'id' : id_nr,\n",
    "                                     'merged_mining' : merged_mining,\n",
    "                                     'merged_mining_coins' : merged_mining_coins,\n",
    "                                     'minimum_payout' : minimum_payout,\n",
    "                                     'name': name,\n",
    "                                     'payment_type' : payment_type,\n",
    "                                     'pool_features' : pool_features,\n",
    "                                     'avg_rating' : avg_rating,\n",
    "                                     'recommended' : recommended,\n",
    "                                     'server_locations' : server_locations,\n",
    "                                     'sort_order' : sort_order,\n",
    "                                     'sponsored' : sponsored,\n",
    "                                     'tx_fee_shared_with_miner' : tx_fee_shared_with_miner}, ignore_index=True)\n",
    "    "
   ]
  },
  {
   "cell_type": "code",
   "execution_count": null,
   "metadata": {},
   "outputs": [],
   "source": []
  },
  {
   "cell_type": "code",
   "execution_count": null,
   "metadata": {},
   "outputs": [],
   "source": []
  }
 ],
 "metadata": {
  "kernelspec": {
   "display_name": "bitcoin",
   "language": "python",
   "name": "bitcoin"
  },
  "language_info": {
   "codemirror_mode": {
    "name": "ipython",
    "version": 3
   },
   "file_extension": ".py",
   "mimetype": "text/x-python",
   "name": "python",
   "nbconvert_exporter": "python",
   "pygments_lexer": "ipython3",
   "version": "3.6.7"
  }
 },
 "nbformat": 4,
 "nbformat_minor": 2
}
