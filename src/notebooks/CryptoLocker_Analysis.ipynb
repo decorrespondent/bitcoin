{
 "cells": [
  {
   "cell_type": "code",
   "execution_count": 1,
   "metadata": {},
   "outputs": [],
   "source": [
    "import blocksci\n",
    "import matplotlib.pyplot as plt\n",
    "import pandas as pd\n",
    "%matplotlib notebook"
   ]
  },
  {
   "cell_type": "code",
   "execution_count": 2,
   "metadata": {},
   "outputs": [],
   "source": [
    "# Some utility functions \n",
    "def get_balances(cluster=None, heights=None):\n",
    "    \"\"\"\n",
    "    Method to compute the balances of a cluster for a given list of block heights.\n",
    "    \"\"\"\n",
    "    return [(int(height), cluster.balance(int(height))) for height in heights]\n",
    "\n",
    "\n",
    "def get_lifetime(address):\n",
    "    \"\"\"\n",
    "    Method to get the lifetime of a Bitcoin Address which is the difference between the last \n",
    "    time the address released a payment and the first time it received a payment. Returns a tuple\n",
    "    containing the address value, the first / last block time, first / last block height, and the \n",
    "    lifetime.\n",
    "    \"\"\"\n",
    "    address_value = address.address_string\n",
    "    first_block_time = address.first_tx.block_time\n",
    "    first_block_height = address.first_tx.block_height\n",
    "    try:\n",
    "        last_time_block = address.out_txes()[-1].block_time\n",
    "    except:\n",
    "        last_time_block = None\n",
    "    try:\n",
    "        last_block_height = address.out_txes()[-1].block_height\n",
    "    except:\n",
    "        last_block_height = None\n",
    "    try:\n",
    "        life_time = address.out_txes()[-1].block_time - address.first_tx.block_time\n",
    "    except:\n",
    "        life_time = None\n",
    "    return (address_value,\n",
    "            first_block_time,\n",
    "            first_block_height,\n",
    "            last_time_block,\n",
    "            last_block_height,\n",
    "            life_time)\n",
    "\n",
    "\n",
    "def get_lifetimes(addresses):\n",
    "    \"\"\"\n",
    "    Method returning a list of tuples containing the lifetime given a list of Bitcoin Addresses. \n",
    "    \"\"\"\n",
    "    return [get_lifetime(address) for address in addresses]\n",
    "\n",
    "\n",
    "def get_payments_df(txes):\n",
    "    \"\"\"\n",
    "    Method to compute the amount of received or spent payments in dollars given a list of \n",
    "    input or output transactions. It returns a DataFrame indexed by time with payments in \n",
    "    USD and the block height as columns. \n",
    "    \"\"\"\n",
    "    payments = [(tx.block, tx.block_height, tx.input_value, tx.hash, tx.ins, tx.outs) for tx in txes]\n",
    "    df = pd.DataFrame(payments, columns=[\"block\", \"height\", \"payment\", \"hash\", \"inputs\", \"outs\"])\n",
    "    return get_dollars_df(df, \"payment\")\n",
    "\n",
    "\n",
    "def get_dollars_df(df=None, column_name=None):\n",
    "    df.index = df[\"height\"]\n",
    "    converter = blocksci.CurrencyConverter()\n",
    "    df = chain.heights_to_dates(df)\n",
    "    df[\"usd\"] = df.apply(lambda x: converter.satoshi_to_currency(x[column_name], chain[x[\"height\"]].time), axis=1)\n",
    "    df.index.name = \"date\"\n",
    "    return df\n",
    "\n",
    "\n",
    "def is_it_in_cluster(cluster=None, seed=None):\n",
    "    \"\"\"\n",
    "    Method to get the size of a cluster. \n",
    "    \"\"\"\n",
    "    addresses = [address for address in cluster.addresses]\n",
    "    return seed in addresses\n",
    "\n",
    "\n",
    "def get_size(cluster=None, limit=10000):\n",
    "    \"\"\"\n",
    "    Method to get the size of a cluster. This method does not count the number of addresses above \n",
    "    a certain limit (default: 10000).\n",
    "    \"\"\"    \n",
    "    addresses = []\n",
    "    iteration = 0\n",
    "    for address in cluster.addresses:\n",
    "        if iteration < limit:\n",
    "            addresses.append(address)\n",
    "            iteration += 1\n",
    "        else:\n",
    "            print(\"Too many addresses!\")\n",
    "            break\n",
    "    return len(addresses)"
   ]
  },
  {
   "cell_type": "code",
   "execution_count": 3,
   "metadata": {},
   "outputs": [],
   "source": [
    "# parser_data_directory should be set to the data-directory which the blocksci_parser output\n",
    "chain = blocksci.Blockchain(\"/home/ubuntu/bitcoin\")"
   ]
  },
  {
   "cell_type": "code",
   "execution_count": 4,
   "metadata": {},
   "outputs": [],
   "source": [
    "# current workaround to disable change address heuristic \n",
    "# (https://citp.github.io/BlockSci/reference/heuristics/change.html)\n",
    "no_change_heuristic = blocksci.heuristics.change.legacy() - blocksci.heuristics.change.legacy() "
   ]
  },
  {
   "cell_type": "code",
   "execution_count": 5,
   "metadata": {},
   "outputs": [
    {
     "name": "stdout",
     "output_type": "stream",
     "text": [
      "99.98% done\n"
     ]
    }
   ],
   "source": [
    "# use the ClusterManager to cluster the blockchain using ONLY multi-input\n",
    "cm_no_change = blocksci.cluster.ClusterManager.create_clustering(\"/home/ubuntu/bitcoin/clusters/nochange\", chain, no_change_heuristic, True)"
   ]
  },
  {
   "cell_type": "code",
   "execution_count": 6,
   "metadata": {},
   "outputs": [],
   "source": [
    "# Seed Addresses\n",
    "seed = '1Fd8RuZqJNG4v56rPD1v6rgYptwnHeJRWs'"
   ]
  },
  {
   "cell_type": "code",
   "execution_count": 8,
   "metadata": {},
   "outputs": [
    {
     "data": {
      "text/plain": [
       "5.82828871"
      ]
     },
     "execution_count": 8,
     "metadata": {},
     "output_type": "execute_result"
    }
   ],
   "source": [
    "address = chain.address_from_string(seed)\n",
    "cluster = cm_no_change.cluster_with_address(address)\n",
    "sum(address.balance() for address in cluster.addresses) / 1e8"
   ]
  },
  {
   "cell_type": "code",
   "execution_count": 12,
   "metadata": {},
   "outputs": [],
   "source": [
    "transaction = 'f69744ce93bb314231bb3a89980531919eb7c5988213535aaaf1fa60b83c41f5'"
   ]
  },
  {
   "cell_type": "code",
   "execution_count": 16,
   "metadata": {},
   "outputs": [
    {
     "ename": "NameError",
     "evalue": "name 'tx' is not defined",
     "output_type": "error",
     "traceback": [
      "\u001b[0;31m---------------------------------------------------------------------------\u001b[0m",
      "\u001b[0;31mNameError\u001b[0m                                 Traceback (most recent call last)",
      "\u001b[0;32m<ipython-input-16-de7fc22deecc>\u001b[0m in \u001b[0;36m<module>\u001b[0;34m()\u001b[0m\n\u001b[0;32m----> 1\u001b[0;31m \u001b[0mtr\u001b[0m \u001b[0;34m=\u001b[0m \u001b[0mtx\u001b[0m\u001b[0;34m.\u001b[0m\u001b[0mins\u001b[0m\u001b[0;34m(\u001b[0m\u001b[0mtransaction\u001b[0m\u001b[0;34m)\u001b[0m\u001b[0;34m\u001b[0m\u001b[0m\n\u001b[0m\u001b[1;32m      2\u001b[0m \u001b[0mprint\u001b[0m\u001b[0;34m(\u001b[0m\u001b[0mtr\u001b[0m\u001b[0;34m)\u001b[0m\u001b[0;34m\u001b[0m\u001b[0m\n",
      "\u001b[0;31mNameError\u001b[0m: name 'tx' is not defined"
     ]
    }
   ],
   "source": [
    "tr = tx.ins(transaction)\n",
    "print(tr)"
   ]
  },
  {
   "cell_type": "code",
   "execution_count": null,
   "metadata": {},
   "outputs": [],
   "source": []
  },
  {
   "cell_type": "code",
   "execution_count": null,
   "metadata": {},
   "outputs": [],
   "source": [
    "# Check latest balance and number of addresses\n",
    "address_1 = chain.address_from_string(seed[0])\n",
    "# Get the cluster containing that address\n",
    "cluster_no_change = cm_no_change.cluster_with_address(address_1)\n",
    "n_addreses = get_size(cluster_no_change)\n",
    "print(n_addreses, address_1)       "
   ]
  },
  {
   "cell_type": "code",
   "execution_count": null,
   "metadata": {},
   "outputs": [],
   "source": [
    "# Get input payments into the cluster\n",
    "payments = cluster_no_change.txes()"
   ]
  },
  {
   "cell_type": "code",
   "execution_count": null,
   "metadata": {},
   "outputs": [],
   "source": [
    "# Construct a DataFrame of payments in USD \n",
    "df_payments = get_payments_df(payments)"
   ]
  },
  {
   "cell_type": "code",
   "execution_count": null,
   "metadata": {},
   "outputs": [],
   "source": [
    "df_payments"
   ]
  },
  {
   "cell_type": "code",
   "execution_count": null,
   "metadata": {},
   "outputs": [],
   "source": [
    "# Sum up all the payments to get the volume of transactions\n",
    "df_payments[\"usd\"].sum()"
   ]
  },
  {
   "cell_type": "code",
   "execution_count": null,
   "metadata": {},
   "outputs": [],
   "source": [
    "# Get the list of block heights at which these payments were made\n",
    "heights = df_payments.sort_values(by=\"height\")[\"height\"].values"
   ]
  },
  {
   "cell_type": "code",
   "execution_count": null,
   "metadata": {},
   "outputs": [],
   "source": [
    "# Compute the balances for the given list of block heights\n",
    "balances = get_balances(cluster=cluster_no_change, heights=heights)"
   ]
  },
  {
   "cell_type": "code",
   "execution_count": null,
   "metadata": {},
   "outputs": [],
   "source": [
    "# Get the balance in dollars\n",
    "df = pd.DataFrame(balances, columns=[\"height\", \"balance\"])\n",
    "df = get_dollars_df(df, \"balance\")"
   ]
  },
  {
   "cell_type": "code",
   "execution_count": null,
   "metadata": {},
   "outputs": [],
   "source": [
    "df.to_csv(\"/home/ubuntu/trustar-whiterabbit/cluster-data/1Fd8RuZqJNG4v56rPD1v6rgYptwnHeJRWs_molyneux.csv\")"
   ]
  },
  {
   "cell_type": "code",
   "execution_count": null,
   "metadata": {},
   "outputs": [],
   "source": [
    "df[\"usd\"].plot()\n",
    "plt.xlabel('Date')\n",
    "plt.ylabel('Balance in US Dollars');"
   ]
  },
  {
   "cell_type": "code",
   "execution_count": null,
   "metadata": {},
   "outputs": [],
   "source": [
    "df_payments.to_csv(\"/home/ubuntu/trustar-whiterabbit/cluster-data/1Fd8RuZqJNG4v56rPD1v6rgYptwnHeJRWs_molyneux_payments.csv\")"
   ]
  },
  {
   "cell_type": "code",
   "execution_count": null,
   "metadata": {},
   "outputs": [],
   "source": []
  }
 ],
 "metadata": {
  "kernelspec": {
   "display_name": "Python 3",
   "language": "python",
   "name": "python3"
  },
  "language_info": {
   "codemirror_mode": {
    "name": "ipython",
    "version": 3
   },
   "file_extension": ".py",
   "mimetype": "text/x-python",
   "name": "python",
   "nbconvert_exporter": "python",
   "pygments_lexer": "ipython3",
   "version": "3.5.2"
  }
 },
 "nbformat": 4,
 "nbformat_minor": 1
}
